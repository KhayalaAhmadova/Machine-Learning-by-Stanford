{
 "cells": [
  {
   "cell_type": "markdown",
   "id": "ff22dbf4-01dc-420e-bc69-aeee2e4b7f96",
   "metadata": {},
   "source": [
    "# Machine Learning: Week 6 - Advice for Applying Machine Learning\n",
    "## Deciding What to Try Next\n",
    "Errors in your predictions can be troubleshooted by:\n",
    "- Getting more training examples\n",
    "- Trying smaller sets of features\n",
    "- Trying additional features\n",
    "- Trying polynomial features\n",
    "- Increasing or decreasing $\\lambda$\n",
    "\n",
    "Don’t just pick one of these avenues at random. We’ll explore diagnostic techniques for choosing one of the above solutions in the following sections.\n",
    "\n",
    "## Evaluating a Hypothesis\n",
    "A hypothesis may have a low error for the training examples but still be inaccurate (because of overfitting). Thus, to evaluate a hypothesis, given a dataset of training examples, we can split up the data into two sets: a **training set** and a **test set**. Typically, the training set consists of $70\\%$ of your data and the test set is the remaining $30\\%$.\n",
    "\n",
    "The new procedure using these two sets is then:\n",
    "- Learn $\\Theta$ and minimize $J_{train}(\\Theta)$ using the training set\n",
    "- Compute the test set error $J_{test}(\\Theta)$\n",
    "\n",
    "### The test set error\n",
    "1. For linear regression: \n",
    "\n",
    "$$\\large\n",
    "J_{test}( \\Theta ) =\\frac{1}{2m_{test}}\\sum _{i=1}^{m_{test}}\\left( h_{\\Theta }\\left( x_{test}^{( i)}\\right) \\ -\\ y_{test}^{( i)}\\right)^{2}\n",
    "$$\n",
    "\n",
    "2. For classification ~ Missclassification error (aka $0/1$ misclassification error):\n",
    "\n",
    "$$\\large\n",
    "err( h_{\\Theta }( x) ,y) =\\begin{cases}\n",
    "1\\ \\ \\ if\\ \\ h_{\\Theta }( x) \\geqslant 0.5\\ \\ and\\ \\ y=0\\ \\ or\\ \\ h_{\\Theta }( x) < 0.5\\ \\ and\\ \\ y=1\\\\\n",
    "0\\ \\ \\ otherwise\n",
    "\\end{cases}\n",
    "$$\n",
    "\n",
    "This gives us a binary $0$ or $1$ error result based on a misclassification. The average test error for the test set is:\n",
    "\n",
    "$$\\large\n",
    "Test\\ Error=\\frac{1}{m_{test}}\\sum _{i=1}^{m_{test}} err\\left( h_{\\Theta }\\left( x_{test}^{( i)}\\right) ,y_{test}^{( i)}\\right)\n",
    "$$\n",
    "\n",
    "This gives us the proportion of the test data that was misclassified.\n",
    "\n",
    "## Model Selection and Train/Validation/Test Sets\n",
    "Just because a learning algorithm fits a training set well, that does not mean it is a good hypothesis. It could over fit and as a result your predictions on the test set would be poor. The error of your hypothesis as measured on the data set with which you trained the parameters will be lower than the error on any other data set. \n",
    "\n",
    "Given many models with different polynomial degrees, we can use a systematic approach to identify the 'best' function. In order to choose the model of your hypothesis, you can test each degree of polynomial and look at the error result.\n",
    "\n",
    "One way to break down our dataset into the three sets is:\n",
    "- Training set: $60\\%$\n",
    "- Cross validation set: $20\\%$\n",
    "- Test set: $20\\%$\n",
    "\n",
    "We can now calculate three separate error values for the three different sets using the following method:\n",
    "1. Optimize the parameters in $\\Theta$ using the training set for each polynomial degree.\n",
    "2. Find the polynomial degree d with the least error using the cross validation set.\n",
    "3. Estimate the generalization error using the test set with $J_{test}(\\Theta^{(d)})$ ($d$ = theta from polynomial with lower error);\n",
    "\n",
    "This way, the degree of the polynomial $d$ has not been trained using the test set."
   ]
  },
  {
   "cell_type": "code",
   "execution_count": null,
   "id": "27c05147-39cf-469c-9835-4abb3dcfac8a",
   "metadata": {},
   "outputs": [],
   "source": []
  }
 ],
 "metadata": {
  "kernelspec": {
   "display_name": "Python 3",
   "language": "python",
   "name": "python3"
  },
  "language_info": {
   "codemirror_mode": {
    "name": "ipython",
    "version": 3
   },
   "file_extension": ".py",
   "mimetype": "text/x-python",
   "name": "python",
   "nbconvert_exporter": "python",
   "pygments_lexer": "ipython3",
   "version": "3.8.8"
  }
 },
 "nbformat": 4,
 "nbformat_minor": 5
}
