{
 "cells": [
  {
   "cell_type": "markdown",
   "id": "ff22dbf4-01dc-420e-bc69-aeee2e4b7f96",
   "metadata": {},
   "source": [
    "# Machine Learning: Week 6 - Advice for Applying Machine Learning\n",
    "## Deciding What to Try Next\n",
    "Errors in your predictions can be troubleshooted by:\n",
    "- Getting more training examples\n",
    "- Trying smaller sets of features\n",
    "- Trying additional features\n",
    "- Trying polynomial features\n",
    "- Increasing or decreasing lambda\n",
    "\n",
    "Don’t just pick one of these avenues at random. We’ll explore diagnostic techniques for choosing one of the above solutions in the following sections."
   ]
  },
  {
   "cell_type": "code",
   "execution_count": null,
   "id": "27c05147-39cf-469c-9835-4abb3dcfac8a",
   "metadata": {},
   "outputs": [],
   "source": []
  }
 ],
 "metadata": {
  "kernelspec": {
   "display_name": "Python 3",
   "language": "python",
   "name": "python3"
  },
  "language_info": {
   "codemirror_mode": {
    "name": "ipython",
    "version": 3
   },
   "file_extension": ".py",
   "mimetype": "text/x-python",
   "name": "python",
   "nbconvert_exporter": "python",
   "pygments_lexer": "ipython3",
   "version": "3.8.8"
  }
 },
 "nbformat": 4,
 "nbformat_minor": 5
}
